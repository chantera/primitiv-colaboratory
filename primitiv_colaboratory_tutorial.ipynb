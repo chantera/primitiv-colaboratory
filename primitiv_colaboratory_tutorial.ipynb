{
  "nbformat": 4,
  "nbformat_minor": 0,
  "metadata": {
    "colab": {
      "name": "primitiv-colaboratory-tutorial.ipynb",
      "version": "0.3.2",
      "provenance": [],
      "include_colab_link": true
    },
    "kernelspec": {
      "name": "python3",
      "display_name": "Python 3"
    },
    "accelerator": "GPU"
  },
  "cells": [
    {
      "cell_type": "markdown",
      "metadata": {
        "id": "view-in-github",
        "colab_type": "text"
      },
      "source": [
        "[View in Colaboratory](https://colab.research.google.com/github/chantera/primitiv-colaboratory/blob/master/primitiv_colaboratory_tutorial.ipynb)"
      ]
    },
    {
      "metadata": {
        "id": "eF6cFNjBN1IS",
        "colab_type": "text"
      },
      "cell_type": "markdown",
      "source": [
        "# 9-step tutorial of *primitiv*: solving the XOR problem\n",
        "\n",
        "## 0. Installs primitiv"
      ]
    },
    {
      "metadata": {
        "id": "H4PX2zPhEtZI",
        "colab_type": "code",
        "colab": {
          "base_uri": "https://localhost:8080/",
          "height": 428
        },
        "outputId": "c0f8de6b-9aac-4b5c-d2ef-2a795719c72e"
      },
      "cell_type": "code",
      "source": [
        "!apt update -q\n",
        "!apt install -y -q ninja-build cuda-libraries-dev-9.2\n",
        "!pip install -q numpy cython cmake scikit-build\n",
        "!pip install -q primitiv==0.4.0.dev213 \\\n",
        "     --global-option=build_ext \\\n",
        "     --global-option=-L/usr/local/cuda-9.2/lib64 \\\n",
        "     --global-option=--enable-cuda"
      ],
      "execution_count": 1,
      "outputs": [
        {
          "output_type": "stream",
          "text": [
            "Ign:1 https://developer.download.nvidia.com/compute/cuda/repos/ubuntu1710/x86_64  InRelease\n",
            "Hit:2 http://ppa.launchpad.net/graphics-drivers/ppa/ubuntu bionic InRelease\n",
            "Hit:3 http://archive.ubuntu.com/ubuntu bionic InRelease\n",
            "Ign:4 https://developer.download.nvidia.com/compute/machine-learning/repos/ubuntu1604/x86_64  InRelease\n",
            "Hit:5 https://developer.download.nvidia.com/compute/cuda/repos/ubuntu1710/x86_64  Release\n",
            "Hit:6 https://developer.download.nvidia.com/compute/machine-learning/repos/ubuntu1604/x86_64  Release\n",
            "Get:7 http://archive.ubuntu.com/ubuntu bionic-updates InRelease [88.7 kB]\n",
            "Get:8 http://security.ubuntu.com/ubuntu bionic-security InRelease [83.2 kB]\n",
            "Get:9 http://archive.ubuntu.com/ubuntu bionic-backports InRelease [74.6 kB]\n",
            "Fetched 247 kB in 2s (158 kB/s)\n",
            "Reading package lists...\n",
            "Building dependency tree...\n",
            "Reading state information...\n",
            "12 packages can be upgraded. Run 'apt list --upgradable' to see them.\n",
            "Reading package lists...\n",
            "Building dependency tree...\n",
            "Reading state information...\n",
            "ninja-build is already the newest version (1.8.2-1).\n",
            "cuda-libraries-dev-9-2 is already the newest version (9.2.148-1).\n",
            "0 upgraded, 0 newly installed, 0 to remove and 12 not upgraded.\n",
            "/usr/local/lib/python3.6/dist-packages/pip/_internal/commands/install.py:211: UserWarning: Disabling all use of wheels due to the use of --build-options / --global-options / --install-options.\n",
            "  cmdoptions.check_install_build_global(options)\n",
            "\u001b[33m  Requested primitiv==0.4.0.dev213 from https://files.pythonhosted.org/packages/7f/0f/bbc6cd94602d05320e076525674428c7e64091b7f160d792dca63fd02116/primitiv-0.4.0.dev213.tar.gz#sha256=0614d142f9debf8204a28d6646a0270d5009725db6eab0e7e8bc2d1694faa348, but installing version 0.4.0\u001b[0m\n"
          ],
          "name": "stdout"
        }
      ]
    },
    {
      "metadata": {
        "id": "D3EZGrTKOX6G",
        "colab_type": "text"
      },
      "cell_type": "markdown",
      "source": [
        "## 1. Imports modules."
      ]
    },
    {
      "metadata": {
        "id": "SUhRtnPkNoWM",
        "colab_type": "code",
        "colab": {
          "base_uri": "https://localhost:8080/",
          "height": 102
        },
        "outputId": "ef6af353-eac5-4037-9811-cfbf04d29958"
      },
      "cell_type": "code",
      "source": [
        "!apt install -y -q graphviz\n",
        "!pip install -q graphviz\n",
        "from graphviz import Source\n",
        "import numpy as np\n",
        "\n",
        "from primitiv import *\n",
        "from primitiv import functions as F"
      ],
      "execution_count": 2,
      "outputs": [
        {
          "output_type": "stream",
          "text": [
            "Reading package lists...\n",
            "Building dependency tree...\n",
            "Reading state information...\n",
            "graphviz is already the newest version (2.40.1-2).\n",
            "0 upgraded, 0 newly installed, 0 to remove and 12 not upgraded.\n"
          ],
          "name": "stdout"
        }
      ]
    },
    {
      "metadata": {
        "id": "i65HIsB9OmNz",
        "colab_type": "text"
      },
      "cell_type": "markdown",
      "source": [
        "## 2. Defines a default device and a default computation graph."
      ]
    },
    {
      "metadata": {
        "id": "IhPDnq1vOulV",
        "colab_type": "code",
        "colab": {}
      },
      "cell_type": "code",
      "source": [
        "dev = devices.CUDA(0); Device.set_default(dev)\n",
        "# if you want to activate CPU backend, just replacing above with:\n",
        "# dev = devices.Naive(); Device.set_default(dev)\n",
        "# or:\n",
        "# dev = devices.Eigen(); Device.set_default(dev)\n",
        "g = Graph(); Graph.set_default(g)"
      ],
      "execution_count": 0,
      "outputs": []
    },
    {
      "metadata": {
        "id": "ry-0WTpqPI_x",
        "colab_type": "text"
      },
      "cell_type": "markdown",
      "source": [
        "## 3. Defines parameters to be optimized."
      ]
    },
    {
      "metadata": {
        "id": "AvoxGLUjPJ64",
        "colab_type": "code",
        "colab": {}
      },
      "cell_type": "code",
      "source": [
        "w1 = Parameter([8, 2], initializers.XavierUniform())\n",
        "b1 = Parameter([8], initializers.Constant(0))\n",
        "w2 = Parameter([1, 8], initializers.XavierUniform())\n",
        "b2 = Parameter([1], initializers.Constant(0))"
      ],
      "execution_count": 0,
      "outputs": []
    },
    {
      "metadata": {
        "id": "LrbWbiH-PNOw",
        "colab_type": "text"
      },
      "cell_type": "markdown",
      "source": [
        "## 4. Defines an optimizer."
      ]
    },
    {
      "metadata": {
        "id": "2pJ28fLcO2aW",
        "colab_type": "code",
        "colab": {}
      },
      "cell_type": "code",
      "source": [
        "opt = optimizers.SGD()\n",
        "opt.add(w1, b1, w2, b2)"
      ],
      "execution_count": 0,
      "outputs": []
    },
    {
      "metadata": {
        "id": "O7liy5XWPcKR",
        "colab_type": "text"
      },
      "cell_type": "markdown",
      "source": [
        "## 5. Prepares input/output samples."
      ]
    },
    {
      "metadata": {
        "id": "dgoja9UWPYPc",
        "colab_type": "code",
        "colab": {}
      },
      "cell_type": "code",
      "source": [
        "# Input 1: list of ndarrays.\n",
        "inputs = [\n",
        "    np.array([ 1,  1]),  # 1st sample\n",
        "    np.array([ 1, -1]),  # 2nd sample\n",
        "    np.array([-1,  1]),  # 3rd sample\n",
        "    np.array([-1, -1]),  # 4th sample\n",
        "]\n",
        "\n",
        "# Input 2: list of raw float values.\n",
        "labels = [1, -1, -1, 1]"
      ],
      "execution_count": 0,
      "outputs": []
    },
    {
      "metadata": {
        "id": "E3WwZIBzPfk5",
        "colab_type": "text"
      },
      "cell_type": "markdown",
      "source": [
        "## 6. Defines an actual graph structure."
      ]
    },
    {
      "metadata": {
        "id": "LB9Q5OVJPjHt",
        "colab_type": "code",
        "colab": {}
      },
      "cell_type": "code",
      "source": [
        "def build_graph():\n",
        "    # Input\n",
        "    # F.input() takes an ndarray, or a list of ndarrays.\n",
        "    x = F.input(inputs)\n",
        "    \n",
        "    # Calculating outputs by 2-layer perceptron.\n",
        "    h = F.tanh(F.parameter(w1) @ x + F.parameter(b1))\n",
        "    y = F.tanh(F.parameter(w2) @ h + F.parameter(b2))\n",
        "    \n",
        "    # Ground truth\n",
        "    # F.raw_input() takes a shape and a corresponding list of\n",
        "    # raw float values with column-major order.\n",
        "    t = F.raw_input(Shape([1], 4), labels)\n",
        "    \n",
        "    # Calculating loss by squared error.\n",
        "    diff = y - t\n",
        "    loss = F.batch.sum(diff * diff)\n",
        "    \n",
        "    return y, loss"
      ],
      "execution_count": 0,
      "outputs": []
    },
    {
      "metadata": {
        "id": "AGba0FlUPqt7",
        "colab_type": "text"
      },
      "cell_type": "markdown",
      "source": [
        "## 7. Dumps the graph structure."
      ]
    },
    {
      "metadata": {
        "id": "qPRzIwcyPoJg",
        "colab_type": "code",
        "colab": {
          "base_uri": "https://localhost:8080/",
          "height": 950
        },
        "outputId": "6292e213-090e-44a2-c778-a5c9f2c0d032"
      },
      "cell_type": "code",
      "source": [
        "g.clear()\n",
        "build_graph()\n",
        "Source(g.dump(\"dot\"))"
      ],
      "execution_count": 8,
      "outputs": [
        {
          "output_type": "execute_result",
          "data": {
            "text/plain": [
              "<graphviz.files.Source at 0x7fea130074e0>"
            ],
            "image/svg+xml": "<?xml version=\"1.0\" encoding=\"UTF-8\" standalone=\"no\"?>\n<!DOCTYPE svg PUBLIC \"-//W3C//DTD SVG 1.1//EN\"\n \"http://www.w3.org/Graphics/SVG/1.1/DTD/svg11.dtd\">\n<!-- Generated by graphviz version 2.40.1 (20161225.0304)\n -->\n<!-- Title: ComputationGraph Pages: 1 -->\n<svg width=\"306pt\" height=\"697pt\"\n viewBox=\"0.00 0.00 306.00 697.00\" xmlns=\"http://www.w3.org/2000/svg\" xmlns:xlink=\"http://www.w3.org/1999/xlink\">\n<g id=\"graph0\" class=\"graph\" transform=\"scale(1 1) rotate(0) translate(4 693)\">\n<title>ComputationGraph</title>\n<polygon fill=\"#ffffff\" stroke=\"transparent\" points=\"-4,4 -4,-693 302,-693 302,4 -4,4\"/>\n<!-- 0 -->\n<g id=\"node1\" class=\"node\">\n<title>0</title>\n<path fill=\"none\" stroke=\"#000000\" d=\"M39.3333,-689C39.3333,-689 7.6667,-689 7.6667,-689 3.8333,-689 0,-685.1667 0,-681.3333 0,-681.3333 0,-673.6667 0,-673.6667 0,-669.8333 3.8333,-666 7.6667,-666 7.6667,-666 39.3333,-666 39.3333,-666 43.1667,-666 47,-669.8333 47,-673.6667 47,-673.6667 47,-681.3333 47,-681.3333 47,-685.1667 43.1667,-689 39.3333,-689\"/>\n<text text-anchor=\"middle\" x=\"23.5\" y=\"-673.8\" font-family=\"Times,serif\" font-size=\"14.00\" fill=\"#000000\">Input</text>\n</g>\n<!-- 2 -->\n<g id=\"node3\" class=\"node\">\n<title>2</title>\n<path fill=\"none\" stroke=\"#000000\" d=\"M107.3333,-615C107.3333,-615 17.6667,-615 17.6667,-615 13.8333,-615 10,-611.1667 10,-607.3333 10,-607.3333 10,-599.6667 10,-599.6667 10,-595.8333 13.8333,-592 17.6667,-592 17.6667,-592 107.3333,-592 107.3333,-592 111.1667,-592 115,-595.8333 115,-599.6667 115,-599.6667 115,-607.3333 115,-607.3333 115,-611.1667 111.1667,-615 107.3333,-615\"/>\n<text text-anchor=\"middle\" x=\"62.5\" y=\"-599.8\" font-family=\"Times,serif\" font-size=\"14.00\" fill=\"#000000\">MatrixMultiply</text>\n</g>\n<!-- 0&#45;&gt;2 -->\n<g id=\"edge2\" class=\"edge\">\n<title>0&#45;&gt;2</title>\n<path fill=\"none\" stroke=\"#000000\" d=\"M23.9859,-665.8984C24.8018,-656.5267 26.9413,-643.256 32.5,-633 34.5754,-629.1709 37.3114,-625.5252 40.2878,-622.1851\"/>\n<polygon fill=\"#000000\" stroke=\"#000000\" points=\"42.8734,-624.5493 47.471,-615.004 37.9243,-619.5988 42.8734,-624.5493\"/>\n<text text-anchor=\"middle\" x=\"53.5\" y=\"-636.8\" font-family=\"Courier,monospace\" font-size=\"14.00\" fill=\"#000000\">[2]x4</text>\n</g>\n<!-- 1 -->\n<g id=\"node2\" class=\"node\">\n<title>1</title>\n<path fill=\"none\" stroke=\"#000000\" d=\"M130.3333,-689C130.3333,-689 72.6667,-689 72.6667,-689 68.8333,-689 65,-685.1667 65,-681.3333 65,-681.3333 65,-673.6667 65,-673.6667 65,-669.8333 68.8333,-666 72.6667,-666 72.6667,-666 130.3333,-666 130.3333,-666 134.1667,-666 138,-669.8333 138,-673.6667 138,-673.6667 138,-681.3333 138,-681.3333 138,-685.1667 134.1667,-689 130.3333,-689\"/>\n<text text-anchor=\"middle\" x=\"101.5\" y=\"-673.8\" font-family=\"Times,serif\" font-size=\"14.00\" fill=\"#000000\">Parameter</text>\n</g>\n<!-- 1&#45;&gt;2 -->\n<g id=\"edge1\" class=\"edge\">\n<title>1&#45;&gt;2</title>\n<path fill=\"none\" stroke=\"#000000\" d=\"M95.4063,-665.9375C89.545,-654.8161 80.5516,-637.7518 73.4472,-624.2716\"/>\n<polygon fill=\"#000000\" stroke=\"#000000\" points=\"76.4384,-622.4403 68.6797,-615.2255 70.2458,-625.704 76.4384,-622.4403\"/>\n<text text-anchor=\"middle\" x=\"113.5\" y=\"-636.8\" font-family=\"Courier,monospace\" font-size=\"14.00\" fill=\"#000000\">[8,2]x1</text>\n</g>\n<!-- 4 -->\n<g id=\"node5\" class=\"node\">\n<title>4</title>\n<path fill=\"none\" stroke=\"#000000\" d=\"M128.8333,-541C128.8333,-541 102.1667,-541 102.1667,-541 98.3333,-541 94.5,-537.1667 94.5,-533.3333 94.5,-533.3333 94.5,-525.6667 94.5,-525.6667 94.5,-521.8333 98.3333,-518 102.1667,-518 102.1667,-518 128.8333,-518 128.8333,-518 132.6667,-518 136.5,-521.8333 136.5,-525.6667 136.5,-525.6667 136.5,-533.3333 136.5,-533.3333 136.5,-537.1667 132.6667,-541 128.8333,-541\"/>\n<text text-anchor=\"middle\" x=\"115.5\" y=\"-525.8\" font-family=\"Times,serif\" font-size=\"14.00\" fill=\"#000000\">Add</text>\n</g>\n<!-- 2&#45;&gt;4 -->\n<g id=\"edge3\" class=\"edge\">\n<title>2&#45;&gt;4</title>\n<path fill=\"none\" stroke=\"#000000\" d=\"M70.7813,-591.9375C78.9013,-580.6001 91.4446,-563.0868 101.1825,-549.4904\"/>\n<polygon fill=\"#000000\" stroke=\"#000000\" points=\"104.1247,-551.3934 107.102,-541.2255 98.4337,-547.3175 104.1247,-551.3934\"/>\n<text text-anchor=\"middle\" x=\"114.5\" y=\"-562.8\" font-family=\"Courier,monospace\" font-size=\"14.00\" fill=\"#000000\">[8]x4</text>\n</g>\n<!-- 3 -->\n<g id=\"node4\" class=\"node\">\n<title>3</title>\n<path fill=\"none\" stroke=\"#000000\" d=\"M198.3333,-615C198.3333,-615 140.6667,-615 140.6667,-615 136.8333,-615 133,-611.1667 133,-607.3333 133,-607.3333 133,-599.6667 133,-599.6667 133,-595.8333 136.8333,-592 140.6667,-592 140.6667,-592 198.3333,-592 198.3333,-592 202.1667,-592 206,-595.8333 206,-599.6667 206,-599.6667 206,-607.3333 206,-607.3333 206,-611.1667 202.1667,-615 198.3333,-615\"/>\n<text text-anchor=\"middle\" x=\"169.5\" y=\"-599.8\" font-family=\"Times,serif\" font-size=\"14.00\" fill=\"#000000\">Parameter</text>\n</g>\n<!-- 3&#45;&gt;4 -->\n<g id=\"edge4\" class=\"edge\">\n<title>3&#45;&gt;4</title>\n<path fill=\"none\" stroke=\"#000000\" d=\"M162.1312,-591.9648C156.2209,-582.8642 147.6027,-569.9269 139.5,-559 137.0483,-555.6937 134.3673,-552.2482 131.7141,-548.9274\"/>\n<polygon fill=\"#000000\" stroke=\"#000000\" points=\"134.3516,-546.6233 125.3228,-541.0798 128.9239,-551.0438 134.3516,-546.6233\"/>\n<text text-anchor=\"middle\" x=\"170.5\" y=\"-562.8\" font-family=\"Courier,monospace\" font-size=\"14.00\" fill=\"#000000\">[8]x1</text>\n</g>\n<!-- 5 -->\n<g id=\"node6\" class=\"node\">\n<title>5</title>\n<path fill=\"none\" stroke=\"#000000\" d=\"M130.8333,-467C130.8333,-467 100.1667,-467 100.1667,-467 96.3333,-467 92.5,-463.1667 92.5,-459.3333 92.5,-459.3333 92.5,-451.6667 92.5,-451.6667 92.5,-447.8333 96.3333,-444 100.1667,-444 100.1667,-444 130.8333,-444 130.8333,-444 134.6667,-444 138.5,-447.8333 138.5,-451.6667 138.5,-451.6667 138.5,-459.3333 138.5,-459.3333 138.5,-463.1667 134.6667,-467 130.8333,-467\"/>\n<text text-anchor=\"middle\" x=\"115.5\" y=\"-451.8\" font-family=\"Times,serif\" font-size=\"14.00\" fill=\"#000000\">Tanh</text>\n</g>\n<!-- 4&#45;&gt;5 -->\n<g id=\"edge5\" class=\"edge\">\n<title>4&#45;&gt;5</title>\n<path fill=\"none\" stroke=\"#000000\" d=\"M115.5,-517.9375C115.5,-507.14 115.5,-490.7408 115.5,-477.4583\"/>\n<polygon fill=\"#000000\" stroke=\"#000000\" points=\"119.0001,-477.2255 115.5,-467.2255 112.0001,-477.2256 119.0001,-477.2255\"/>\n<text text-anchor=\"middle\" x=\"136.5\" y=\"-488.8\" font-family=\"Courier,monospace\" font-size=\"14.00\" fill=\"#000000\">[8]x4</text>\n</g>\n<!-- 7 -->\n<g id=\"node8\" class=\"node\">\n<title>7</title>\n<path fill=\"none\" stroke=\"#000000\" d=\"M199.3333,-393C199.3333,-393 109.6667,-393 109.6667,-393 105.8333,-393 102,-389.1667 102,-385.3333 102,-385.3333 102,-377.6667 102,-377.6667 102,-373.8333 105.8333,-370 109.6667,-370 109.6667,-370 199.3333,-370 199.3333,-370 203.1667,-370 207,-373.8333 207,-377.6667 207,-377.6667 207,-385.3333 207,-385.3333 207,-389.1667 203.1667,-393 199.3333,-393\"/>\n<text text-anchor=\"middle\" x=\"154.5\" y=\"-377.8\" font-family=\"Times,serif\" font-size=\"14.00\" fill=\"#000000\">MatrixMultiply</text>\n</g>\n<!-- 5&#45;&gt;7 -->\n<g id=\"edge7\" class=\"edge\">\n<title>5&#45;&gt;7</title>\n<path fill=\"none\" stroke=\"#000000\" d=\"M115.9859,-443.8984C116.8018,-434.5267 118.9413,-421.256 124.5,-411 126.5754,-407.1709 129.3114,-403.5252 132.2878,-400.1851\"/>\n<polygon fill=\"#000000\" stroke=\"#000000\" points=\"134.8734,-402.5493 139.471,-393.004 129.9243,-397.5988 134.8734,-402.5493\"/>\n<text text-anchor=\"middle\" x=\"145.5\" y=\"-414.8\" font-family=\"Courier,monospace\" font-size=\"14.00\" fill=\"#000000\">[8]x4</text>\n</g>\n<!-- 6 -->\n<g id=\"node7\" class=\"node\">\n<title>6</title>\n<path fill=\"none\" stroke=\"#000000\" d=\"M222.3333,-467C222.3333,-467 164.6667,-467 164.6667,-467 160.8333,-467 157,-463.1667 157,-459.3333 157,-459.3333 157,-451.6667 157,-451.6667 157,-447.8333 160.8333,-444 164.6667,-444 164.6667,-444 222.3333,-444 222.3333,-444 226.1667,-444 230,-447.8333 230,-451.6667 230,-451.6667 230,-459.3333 230,-459.3333 230,-463.1667 226.1667,-467 222.3333,-467\"/>\n<text text-anchor=\"middle\" x=\"193.5\" y=\"-451.8\" font-family=\"Times,serif\" font-size=\"14.00\" fill=\"#000000\">Parameter</text>\n</g>\n<!-- 6&#45;&gt;7 -->\n<g id=\"edge6\" class=\"edge\">\n<title>6&#45;&gt;7</title>\n<path fill=\"none\" stroke=\"#000000\" d=\"M187.4063,-443.9375C181.545,-432.8161 172.5516,-415.7518 165.4472,-402.2716\"/>\n<polygon fill=\"#000000\" stroke=\"#000000\" points=\"168.4384,-400.4403 160.6797,-393.2255 162.2458,-403.704 168.4384,-400.4403\"/>\n<text text-anchor=\"middle\" x=\"205.5\" y=\"-414.8\" font-family=\"Courier,monospace\" font-size=\"14.00\" fill=\"#000000\">[1,8]x1</text>\n</g>\n<!-- 9 -->\n<g id=\"node10\" class=\"node\">\n<title>9</title>\n<path fill=\"none\" stroke=\"#000000\" d=\"M238.3333,-319C238.3333,-319 176.6667,-319 176.6667,-319 172.8333,-319 169,-315.1667 169,-311.3333 169,-311.3333 169,-303.6667 169,-303.6667 169,-299.8333 172.8333,-296 176.6667,-296 176.6667,-296 238.3333,-296 238.3333,-296 242.1667,-296 246,-299.8333 246,-303.6667 246,-303.6667 246,-311.3333 246,-311.3333 246,-315.1667 242.1667,-319 238.3333,-319\"/>\n<text text-anchor=\"middle\" x=\"207.5\" y=\"-303.8\" font-family=\"Times,serif\" font-size=\"14.00\" fill=\"#000000\">AddScalar</text>\n</g>\n<!-- 7&#45;&gt;9 -->\n<g id=\"edge9\" class=\"edge\">\n<title>7&#45;&gt;9</title>\n<path fill=\"none\" stroke=\"#000000\" d=\"M162.7813,-369.9375C170.9013,-358.6001 183.4446,-341.0868 193.1825,-327.4904\"/>\n<polygon fill=\"#000000\" stroke=\"#000000\" points=\"196.1247,-329.3934 199.102,-319.2255 190.4337,-325.3175 196.1247,-329.3934\"/>\n<text text-anchor=\"middle\" x=\"202.5\" y=\"-340.8\" font-family=\"Courier,monospace\" font-size=\"14.00\" fill=\"#000000\">[]x4</text>\n</g>\n<!-- 8 -->\n<g id=\"node9\" class=\"node\">\n<title>8</title>\n<path fill=\"none\" stroke=\"#000000\" d=\"M290.3333,-393C290.3333,-393 232.6667,-393 232.6667,-393 228.8333,-393 225,-389.1667 225,-385.3333 225,-385.3333 225,-377.6667 225,-377.6667 225,-373.8333 228.8333,-370 232.6667,-370 232.6667,-370 290.3333,-370 290.3333,-370 294.1667,-370 298,-373.8333 298,-377.6667 298,-377.6667 298,-385.3333 298,-385.3333 298,-389.1667 294.1667,-393 290.3333,-393\"/>\n<text text-anchor=\"middle\" x=\"261.5\" y=\"-377.8\" font-family=\"Times,serif\" font-size=\"14.00\" fill=\"#000000\">Parameter</text>\n</g>\n<!-- 8&#45;&gt;9 -->\n<g id=\"edge8\" class=\"edge\">\n<title>8&#45;&gt;9</title>\n<path fill=\"none\" stroke=\"#000000\" d=\"M253.0625,-369.9375C244.7893,-358.6001 232.0093,-341.0868 222.0876,-327.4904\"/>\n<polygon fill=\"#000000\" stroke=\"#000000\" points=\"224.7785,-325.2403 216.0565,-319.2255 219.1239,-329.3666 224.7785,-325.2403\"/>\n<text text-anchor=\"middle\" x=\"255.5\" y=\"-340.8\" font-family=\"Courier,monospace\" font-size=\"14.00\" fill=\"#000000\">[]x1</text>\n</g>\n<!-- 10 -->\n<g id=\"node11\" class=\"node\">\n<title>10</title>\n<path fill=\"none\" stroke=\"#000000\" d=\"M222.8333,-245C222.8333,-245 192.1667,-245 192.1667,-245 188.3333,-245 184.5,-241.1667 184.5,-237.3333 184.5,-237.3333 184.5,-229.6667 184.5,-229.6667 184.5,-225.8333 188.3333,-222 192.1667,-222 192.1667,-222 222.8333,-222 222.8333,-222 226.6667,-222 230.5,-225.8333 230.5,-229.6667 230.5,-229.6667 230.5,-237.3333 230.5,-237.3333 230.5,-241.1667 226.6667,-245 222.8333,-245\"/>\n<text text-anchor=\"middle\" x=\"207.5\" y=\"-229.8\" font-family=\"Times,serif\" font-size=\"14.00\" fill=\"#000000\">Tanh</text>\n</g>\n<!-- 9&#45;&gt;10 -->\n<g id=\"edge10\" class=\"edge\">\n<title>9&#45;&gt;10</title>\n<path fill=\"none\" stroke=\"#000000\" d=\"M207.5,-295.9375C207.5,-285.14 207.5,-268.7408 207.5,-255.4583\"/>\n<polygon fill=\"#000000\" stroke=\"#000000\" points=\"211.0001,-255.2255 207.5,-245.2255 204.0001,-255.2256 211.0001,-255.2255\"/>\n<text text-anchor=\"middle\" x=\"224.5\" y=\"-266.8\" font-family=\"Courier,monospace\" font-size=\"14.00\" fill=\"#000000\">[]x4</text>\n</g>\n<!-- 12 -->\n<g id=\"node13\" class=\"node\">\n<title>12</title>\n<path fill=\"none\" stroke=\"#000000\" d=\"M285.3333,-171C285.3333,-171 193.6667,-171 193.6667,-171 189.8333,-171 186,-167.1667 186,-163.3333 186,-163.3333 186,-155.6667 186,-155.6667 186,-151.8333 189.8333,-148 193.6667,-148 193.6667,-148 285.3333,-148 285.3333,-148 289.1667,-148 293,-151.8333 293,-155.6667 293,-155.6667 293,-163.3333 293,-163.3333 293,-167.1667 289.1667,-171 285.3333,-171\"/>\n<text text-anchor=\"middle\" x=\"239.5\" y=\"-155.8\" font-family=\"Times,serif\" font-size=\"14.00\" fill=\"#000000\">SubtractScalarL</text>\n</g>\n<!-- 10&#45;&gt;12 -->\n<g id=\"edge12\" class=\"edge\">\n<title>10&#45;&gt;12</title>\n<path fill=\"none\" stroke=\"#000000\" d=\"M208.3947,-221.704C209.4421,-212.4596 211.6934,-199.456 216.5,-189 218.0851,-185.5518 220.145,-182.1407 222.3804,-178.9294\"/>\n<polygon fill=\"#000000\" stroke=\"#000000\" points=\"225.1568,-181.0605 228.5016,-171.0074 219.6177,-176.7804 225.1568,-181.0605\"/>\n<text text-anchor=\"middle\" x=\"233.5\" y=\"-192.8\" font-family=\"Courier,monospace\" font-size=\"14.00\" fill=\"#000000\">[]x4</text>\n</g>\n<!-- 11 -->\n<g id=\"node12\" class=\"node\">\n<title>11</title>\n<path fill=\"none\" stroke=\"#000000\" d=\"M288.3333,-245C288.3333,-245 256.6667,-245 256.6667,-245 252.8333,-245 249,-241.1667 249,-237.3333 249,-237.3333 249,-229.6667 249,-229.6667 249,-225.8333 252.8333,-222 256.6667,-222 256.6667,-222 288.3333,-222 288.3333,-222 292.1667,-222 296,-225.8333 296,-229.6667 296,-229.6667 296,-237.3333 296,-237.3333 296,-241.1667 292.1667,-245 288.3333,-245\"/>\n<text text-anchor=\"middle\" x=\"272.5\" y=\"-229.8\" font-family=\"Times,serif\" font-size=\"14.00\" fill=\"#000000\">Input</text>\n</g>\n<!-- 11&#45;&gt;12 -->\n<g id=\"edge11\" class=\"edge\">\n<title>11&#45;&gt;12</title>\n<path fill=\"none\" stroke=\"#000000\" d=\"M267.3438,-221.9375C262.4323,-210.924 254.922,-194.0826 248.9385,-180.6652\"/>\n<polygon fill=\"#000000\" stroke=\"#000000\" points=\"251.9984,-178.933 244.7289,-171.2255 245.6053,-181.7841 251.9984,-178.933\"/>\n<text text-anchor=\"middle\" x=\"275.5\" y=\"-192.8\" font-family=\"Courier,monospace\" font-size=\"14.00\" fill=\"#000000\">[]x4</text>\n</g>\n<!-- 13 -->\n<g id=\"node14\" class=\"node\">\n<title>13</title>\n<path fill=\"none\" stroke=\"#000000\" d=\"M282.3333,-97C282.3333,-97 196.6667,-97 196.6667,-97 192.8333,-97 189,-93.1667 189,-89.3333 189,-89.3333 189,-81.6667 189,-81.6667 189,-77.8333 192.8333,-74 196.6667,-74 196.6667,-74 282.3333,-74 282.3333,-74 286.1667,-74 290,-77.8333 290,-81.6667 290,-81.6667 290,-89.3333 290,-89.3333 290,-93.1667 286.1667,-97 282.3333,-97\"/>\n<text text-anchor=\"middle\" x=\"239.5\" y=\"-81.8\" font-family=\"Times,serif\" font-size=\"14.00\" fill=\"#000000\">MultiplyScalar</text>\n</g>\n<!-- 12&#45;&gt;13 -->\n<g id=\"edge13\" class=\"edge\">\n<title>12&#45;&gt;13</title>\n<path fill=\"none\" stroke=\"#000000\" d=\"M225.0133,-147.7683C220.0614,-142.861 215.115,-136.7304 212.5,-130 210.0856,-123.7859 210.0856,-121.2141 212.5,-115 213.8892,-111.4245 215.9364,-108.0183 218.2929,-104.8748\"/>\n<polygon fill=\"#000000\" stroke=\"#000000\" points=\"221.0385,-107.0527 225.0133,-97.2317 215.7816,-102.4304 221.0385,-107.0527\"/>\n<text text-anchor=\"middle\" x=\"229.5\" y=\"-118.8\" font-family=\"Courier,monospace\" font-size=\"14.00\" fill=\"#000000\">[]x4</text>\n</g>\n<!-- 12&#45;&gt;13 -->\n<g id=\"edge14\" class=\"edge\">\n<title>12&#45;&gt;13</title>\n<path fill=\"none\" stroke=\"#000000\" d=\"M242.9282,-147.841C244.3382,-142.4618 245.8026,-135.96 246.5,-130 247.2748,-123.3785 247.2748,-121.6215 246.5,-115 246.1949,-112.3925 245.7429,-109.6813 245.213,-107.0058\"/>\n<polygon fill=\"#000000\" stroke=\"#000000\" points=\"248.598,-106.1091 242.9282,-97.159 241.7792,-107.6913 248.598,-106.1091\"/>\n<text text-anchor=\"middle\" x=\"263.5\" y=\"-118.8\" font-family=\"Courier,monospace\" font-size=\"14.00\" fill=\"#000000\">[]x4</text>\n</g>\n<!-- 14 -->\n<g id=\"node15\" class=\"node\">\n<title>14</title>\n<path fill=\"none\" stroke=\"#000000\" d=\"M270.3333,-23C270.3333,-23 208.6667,-23 208.6667,-23 204.8333,-23 201,-19.1667 201,-15.3333 201,-15.3333 201,-7.6667 201,-7.6667 201,-3.8333 204.8333,0 208.6667,0 208.6667,0 270.3333,0 270.3333,0 274.1667,0 278,-3.8333 278,-7.6667 278,-7.6667 278,-15.3333 278,-15.3333 278,-19.1667 274.1667,-23 270.3333,-23\"/>\n<text text-anchor=\"middle\" x=\"239.5\" y=\"-7.8\" font-family=\"Times,serif\" font-size=\"14.00\" fill=\"#000000\">BatchSum</text>\n</g>\n<!-- 13&#45;&gt;14 -->\n<g id=\"edge15\" class=\"edge\">\n<title>13&#45;&gt;14</title>\n<path fill=\"none\" stroke=\"#000000\" d=\"M239.5,-73.9375C239.5,-63.14 239.5,-46.7408 239.5,-33.4583\"/>\n<polygon fill=\"#000000\" stroke=\"#000000\" points=\"243.0001,-33.2255 239.5,-23.2255 236.0001,-33.2256 243.0001,-33.2255\"/>\n<text text-anchor=\"middle\" x=\"256.5\" y=\"-44.8\" font-family=\"Courier,monospace\" font-size=\"14.00\" fill=\"#000000\">[]x4</text>\n</g>\n</g>\n</svg>\n"
          },
          "metadata": {
            "tags": []
          },
          "execution_count": 8
        }
      ]
    },
    {
      "metadata": {
        "id": "8o8khtEmQsMU",
        "colab_type": "text"
      },
      "cell_type": "markdown",
      "source": [
        "## 8. Performs the training loop."
      ]
    },
    {
      "metadata": {
        "id": "KzIocZhRQtkc",
        "colab_type": "code",
        "colab": {
          "base_uri": "https://localhost:8080/",
          "height": 357
        },
        "outputId": "3bff18c1-f87b-4b1d-aeab-f461adee2827"
      },
      "cell_type": "code",
      "source": [
        "for i in range(20):\n",
        "    # Constructs the graph.\n",
        "    g.clear()\n",
        "    y, loss = build_graph()\n",
        "    \n",
        "    # Calculates values\n",
        "    y_vals = y.to_list()\n",
        "    loss_val = loss.to_float()\n",
        "    print(\"y =\", \"[\" + \", \".join(\"%+.8f\" % x for x in y_vals) + \"], loss =\", \"%.8f\" % loss_val)\n",
        "    \n",
        "    # Train\n",
        "    opt.reset_gradients()\n",
        "    loss.backward()\n",
        "    opt.update()"
      ],
      "execution_count": 9,
      "outputs": [
        {
          "output_type": "stream",
          "text": [
            "y = [+0.16685486, -0.67652214, +0.67652214, -0.16685486], loss = 4.97104549\n",
            "y = [+0.25149074, +0.08853039, +0.44756424, +0.50954020], loss = 4.08115768\n",
            "y = [+0.14997287, -0.39876923, +0.01388901, -0.08798395], loss = 3.29570436\n",
            "y = [+0.16787529, -0.00632943, -0.21650332, +0.26411158], loss = 2.83521152\n",
            "y = [+0.32135800, -0.49942562, -0.07637559, +0.08251421], loss = 2.40599179\n",
            "y = [+0.27840698, -0.18051286, -0.35828522, +0.37379885], loss = 1.99618149\n",
            "y = [+0.49367085, -0.61976331, -0.20462814, +0.21143343], loss = 1.65540290\n",
            "y = [+0.38383043, -0.34524575, -0.49392632, +0.48958123], loss = 1.32500601\n",
            "y = [+0.61651027, -0.67073792, -0.35090408, +0.36949077], loss = 1.07434523\n",
            "y = [+0.51589978, -0.51893210, -0.57372993, +0.55198014], loss = 0.84820729\n",
            "y = [+0.66131127, -0.67143214, -0.50472271, +0.52757239], loss = 0.69115436\n",
            "y = [+0.63583994, -0.64295983, -0.61133802, +0.59545213], loss = 0.57480735\n",
            "y = [+0.68672210, -0.69008404, -0.61065090, +0.62075579], loss = 0.48960984\n",
            "y = [+0.70094210, -0.70622969, -0.64868963, +0.64748323], loss = 0.42342371\n",
            "y = [+0.72197163, -0.72600549, -0.66828775, +0.67121255], loss = 0.37050697\n",
            "y = [+0.73824191, -0.74229610, -0.68857539, +0.69082320], loss = 0.32750419\n",
            "y = [+0.75273407, -0.75658023, -0.70574880, +0.70822537], loss = 0.29210985\n",
            "y = [+0.76545447, -0.76915920, -0.72091830, +0.72350383], loss = 0.26263580\n",
            "y = [+0.77672255, -0.78031236, -0.73436207, +0.73704153], loss = 0.23782614\n",
            "y = [+0.78677034, -0.79026514, -0.74635553, +0.74911439], loss = 0.21673471\n"
          ],
          "name": "stdout"
        }
      ]
    }
  ]
}